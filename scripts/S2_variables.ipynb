{
 "cells": [
  {
   "cell_type": "markdown",
   "id": "55205ed4",
   "metadata": {},
   "source": [
    "# S2 Variables\n",
    "\n",
    "**Structural uncertainty due to fault timing: a multi-model case study from the Perth Basin**<br><br>Bardot, K., Lesueur, M., Siade, A. J., Lang, S. C. and McCallum, J. L. (2024)"
   ]
  },
  {
   "cell_type": "code",
   "execution_count": 1,
   "id": "8a41ab90",
   "metadata": {},
   "outputs": [],
   "source": [
    "import numpy as np\n",
    "structural_models = ['S1', 'S2','S3']\n",
    "fault_models = ['F1','F2','F3','F4']\n",
    "model_names = []\n",
    "for s in structural_models:\n",
    "    for f in fault_models:\n",
    "        model_names.append((s + '_' + f))\n",
    "\n",
    "xmax = 20000. # Width of model\n",
    "zmin, zmax = -2000., 100 \n",
    "nlay, nrow, ncol = 150, 1, 300\n",
    "delz = (zmax - zmin) / nlay \n",
    "delr, delc = xmax / ncol, 1\n",
    "xi = np.linspace(delr/2, xmax-delr/2, ncol) # centre in x\n",
    "xc = np.linspace(delr/2, xmax-delr/2, ncol) # centre in x\n",
    "zi = np.arange(zmin, zmax, delz) # cell bottoms\n",
    "zi = zi[::-1]\n",
    "zc = zi + delz/2\n",
    "\n",
    "xt3d = True # Important for including dipping anisotropy\n",
    "recharge_rate = 0.001 # consistent with PRAMS\n",
    "\n",
    "fault_x = 11000. # x position of fault\n",
    "fault_leftcol = int(fault_x/delr)-1 # column to left of fault\n",
    "fault_rightcol = int(fault_x/delr)  # column to right of fault\n",
    "fault_core_width = 1 # Presume \n",
    "fault_core_K = 10**-12\n",
    "hydchr = fault_core_K / fault_core_width  # Width of barrier / barrier K # PRAMS 1.2E-4\n",
    "#print('damage zone thickness = ', 4 * delr) # damage zone applied to 2 columns either side of the fault\n",
    "\n",
    "# Head boundaries - see Davidson \n",
    "west_HB_z, west_HB_h = [0, -868,zmin], [0,10,10] # SEA LEVEL (z = 0mAHD, h = 0mAHD), AM75 (z = -868mAHD, h = -12mAHD)\n",
    "east_HB_z, east_HB_h = [30, -780,zmin], [39,20,20] # SUPERFIFICAL (z = 30mAHD, h = 39mAHD), AM72 affected by pumping\n",
    "strt = 0.\n",
    "\n",
    "# stratigraphy = ['super', 'kcok', 'kwlp', 'kwlw', 'kwlm', 'kws', 'kwg', 'jy']\n",
    "# hk_PRAMS is from original PRAMS model 3.5 at YMB1, 1 OOM less for shales\n",
    "hk_PRAMS = [100, .001, 1., 6., 1., 0.001, 0.15, 1.5] \n",
    "# hk_by_layer is modifid from PRAMS as more suitable for 2D transect\n",
    "hk_by_layer = [100, .001, 1., 6., 1., 0.001, 1.5, 1.5]\n",
    "vk_by_layer = [1, .00001, 0.01, 0.06, 0.01, 0.00001, .015, .015]\n",
    "ss = [0.0001, 0.00001, 0.0001, 0.0001, 0.0001, 0.00001, 0.0001, 0.0001] # Shale 10^-5, Else 10^-4\n",
    "\n",
    "# TRANSPORT VARIABLES\n",
    "qwell = 12096 / (0.52 * 3.14159 * 218)  # YRB1 -->218m screen, 0.26m ID, 140L/s or 12,096m3/d\n",
    "cwell = 100.0\n",
    "prsity = 0.25  # Porosity\n",
    "al = 1.  # Longitudinal dispersivity \n",
    "trpt = 0.1  # Ratio of transverse to longitudinal dispersitivity\n",
    "ath1 = al * trpt # transerve dispersivity\n",
    "sconc = 0.0 # initial concentration\n",
    "nouter, ninner = 100, 300 # SOLVER VARIABLES\n",
    "hclose, rclose, relax = 1e-4, 1e-4, 1.0\n",
    "scheme = 'upstream' # upstream, central, or TVD\n",
    "\n",
    "# For plotting\n",
    "from scipy.interpolate import griddata # GET CONTOURS SETUP\n",
    "xc = np.linspace(delr/2, xmax-delr/2, ncol) # centre in x\n",
    "zc = zi + delz/2\n",
    "X, Z = np.meshgrid(xc, zc)\n",
    "extent = [0,xmax, zmin, zmax]"
   ]
  },
  {
   "cell_type": "code",
   "execution_count": null,
   "id": "9f96a4a6",
   "metadata": {},
   "outputs": [],
   "source": []
  }
 ],
 "metadata": {
  "kernelspec": {
   "display_name": "Python [conda env:loop3denvu]",
   "language": "python",
   "name": "conda-env-loop3denvu-py"
  },
  "language_info": {
   "codemirror_mode": {
    "name": "ipython",
    "version": 3
   },
   "file_extension": ".py",
   "mimetype": "text/x-python",
   "name": "python",
   "nbconvert_exporter": "python",
   "pygments_lexer": "ipython3",
   "version": "3.9.18"
  }
 },
 "nbformat": 4,
 "nbformat_minor": 5
}
